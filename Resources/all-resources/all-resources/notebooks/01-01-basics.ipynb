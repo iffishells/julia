{
 "cells": [
  {
   "cell_type": "markdown",
   "id": "4d831d01-1ae7-4a6f-b56e-a7785ea37b7f",
   "metadata": {},
   "source": [
    "# Welcome to Julia! Basic Syntax "
   ]
  },
  {
   "cell_type": "code",
   "execution_count": 2,
   "id": "b4cc4203-e9ab-44df-8e5f-34587b6fa276",
   "metadata": {},
   "outputs": [
    {
     "data": {
      "text/plain": [
       "25"
      ]
     },
     "execution_count": 2,
     "metadata": {},
     "output_type": "execute_result"
    }
   ],
   "source": [
    "awesome_var = 25"
   ]
  },
  {
   "cell_type": "code",
   "execution_count": 3,
   "id": "1e7f82a6-a750-4be1-939f-579c3008ffd1",
   "metadata": {},
   "outputs": [
    {
     "data": {
      "text/plain": [
       "25"
      ]
     },
     "execution_count": 3,
     "metadata": {},
     "output_type": "execute_result"
    }
   ],
   "source": [
    "awesome_var "
   ]
  },
  {
   "cell_type": "code",
   "execution_count": 4,
   "id": "d9309ae4-ccb1-45a4-a32a-1974258217dc",
   "metadata": {},
   "outputs": [
    {
     "ename": "LoadError",
     "evalue": "syntax: \"\\\" is not a unary operator",
     "output_type": "error",
     "traceback": [
      "syntax: \"\\\" is not a unary operator",
      "",
      "Stacktrace:",
      " [1] top-level scope",
      "   @ In[4]:1",
      " [2] eval",
      "   @ ./boot.jl:360 [inlined]",
      " [3] include_string(mapexpr::typeof(REPL.softscope), mod::Module, code::String, filename::String)",
      "   @ Base ./loading.jl:1094"
     ]
    }
   ],
   "source": [
    "\\:smile_cat:         # tab completion "
   ]
  },
  {
   "cell_type": "code",
   "execution_count": 3,
   "id": "88916df1-2274-49f7-a852-7110fa23ce92",
   "metadata": {},
   "outputs": [
    {
     "data": {
      "text/plain": [
       "\"😺\""
      ]
     },
     "execution_count": 3,
     "metadata": {},
     "output_type": "execute_result"
    }
   ],
   "source": [
    "😺  = \"😺\"     # julia is fully unicode! "
   ]
  },
  {
   "cell_type": "code",
   "execution_count": 4,
   "id": "96215cc5-4ee9-4922-aaac-f0f08d1481e1",
   "metadata": {},
   "outputs": [
    {
     "data": {
      "text/plain": [
       "\"😺\""
      ]
     },
     "execution_count": 4,
     "metadata": {},
     "output_type": "execute_result"
    }
   ],
   "source": [
    "😺 "
   ]
  },
  {
   "cell_type": "code",
   "execution_count": 5,
   "id": "985ae882-24e0-45d9-88ee-efdcc5edadfe",
   "metadata": {},
   "outputs": [
    {
     "data": {
      "text/plain": [
       "String"
      ]
     },
     "execution_count": 5,
     "metadata": {},
     "output_type": "execute_result"
    }
   ],
   "source": [
    "typeof(😺)"
   ]
  },
  {
   "cell_type": "code",
   "execution_count": 6,
   "id": "1dc41a79-fe5b-4da1-9f2e-f163ff49709f",
   "metadata": {},
   "outputs": [
    {
     "data": {
      "text/plain": [
       "Char"
      ]
     },
     "execution_count": 6,
     "metadata": {},
     "output_type": "execute_result"
    }
   ],
   "source": [
    "typeof('a')"
   ]
  },
  {
   "cell_type": "code",
   "execution_count": 7,
   "id": "36880e9f-853e-46c3-99f2-7f52da4c634f",
   "metadata": {},
   "outputs": [
    {
     "data": {
      "text/plain": [
       "String"
      ]
     },
     "execution_count": 7,
     "metadata": {},
     "output_type": "execute_result"
    }
   ],
   "source": [
    "typeof(\"a\")"
   ]
  },
  {
   "cell_type": "code",
   "execution_count": 8,
   "id": "03333f9b-e9a8-4608-a8af-2d8f576a084e",
   "metadata": {},
   "outputs": [
    {
     "data": {
      "text/plain": [
       "2.5"
      ]
     },
     "execution_count": 8,
     "metadata": {},
     "output_type": "execute_result"
    }
   ],
   "source": [
    "σ = 2.5        # \\sigma with tab completion "
   ]
  },
  {
   "cell_type": "code",
   "execution_count": 9,
   "id": "f73398fb-c6d1-4ec2-9758-91f62a85b7da",
   "metadata": {},
   "outputs": [
    {
     "data": {
      "text/plain": [
       "2.5"
      ]
     },
     "execution_count": 9,
     "metadata": {},
     "output_type": "execute_result"
    }
   ],
   "source": [
    "sqrt(σ^2)"
   ]
  },
  {
   "cell_type": "code",
   "execution_count": 10,
   "id": "26757e58-1b08-444b-a1fb-97d96ba889a6",
   "metadata": {},
   "outputs": [
    {
     "name": "stdout",
     "output_type": "stream",
     "text": [
      "σ = 2.5\n"
     ]
    }
   ],
   "source": [
    "println(\"σ = \", σ)"
   ]
  },
  {
   "cell_type": "code",
   "execution_count": 11,
   "id": "0539897c-78b5-4e49-8964-419c22b173cf",
   "metadata": {},
   "outputs": [
    {
     "name": "stdout",
     "output_type": "stream",
     "text": [
      "search: \u001b[0m\u001b[1mp\u001b[22m\u001b[0m\u001b[1mr\u001b[22m\u001b[0m\u001b[1mi\u001b[22m\u001b[0m\u001b[1mn\u001b[22m\u001b[0m\u001b[1mt\u001b[22m\u001b[0m\u001b[1ml\u001b[22m\u001b[0m\u001b[1mn\u001b[22m \u001b[0m\u001b[1mp\u001b[22m\u001b[0m\u001b[1mr\u001b[22m\u001b[0m\u001b[1mi\u001b[22m\u001b[0m\u001b[1mn\u001b[22m\u001b[0m\u001b[1mt\u001b[22msty\u001b[0m\u001b[1ml\u001b[22med \u001b[0m\u001b[1mp\u001b[22m\u001b[0m\u001b[1mr\u001b[22m\u001b[0m\u001b[1mi\u001b[22m\u001b[0m\u001b[1mn\u001b[22m\u001b[0m\u001b[1mt\u001b[22m s\u001b[0m\u001b[1mp\u001b[22m\u001b[0m\u001b[1mr\u001b[22m\u001b[0m\u001b[1mi\u001b[22m\u001b[0m\u001b[1mn\u001b[22m\u001b[0m\u001b[1mt\u001b[22m is\u001b[0m\u001b[1mp\u001b[22m\u001b[0m\u001b[1mr\u001b[22m\u001b[0m\u001b[1mi\u001b[22m\u001b[0m\u001b[1mn\u001b[22m\u001b[0m\u001b[1mt\u001b[22m\n",
      "\n"
     ]
    },
    {
     "data": {
      "text/latex": [
       "\\begin{verbatim}\n",
       "println([io::IO], xs...)\n",
       "\\end{verbatim}\n",
       "Print (using \\href{@ref}{\\texttt{print}}) \\texttt{xs} followed by a newline. If \\texttt{io} is not supplied, prints to \\href{@ref}{\\texttt{stdout}}.\n",
       "\n",
       "\\section{Examples}\n",
       "\\begin{verbatim}\n",
       "julia> println(\"Hello, world\")\n",
       "Hello, world\n",
       "\n",
       "julia> io = IOBuffer();\n",
       "\n",
       "julia> println(io, \"Hello, world\")\n",
       "\n",
       "julia> String(take!(io))\n",
       "\"Hello, world\\n\"\n",
       "\\end{verbatim}\n"
      ],
      "text/markdown": [
       "```\n",
       "println([io::IO], xs...)\n",
       "```\n",
       "\n",
       "Print (using [`print`](@ref)) `xs` followed by a newline. If `io` is not supplied, prints to [`stdout`](@ref).\n",
       "\n",
       "# Examples\n",
       "\n",
       "```jldoctest\n",
       "julia> println(\"Hello, world\")\n",
       "Hello, world\n",
       "\n",
       "julia> io = IOBuffer();\n",
       "\n",
       "julia> println(io, \"Hello, world\")\n",
       "\n",
       "julia> String(take!(io))\n",
       "\"Hello, world\\n\"\n",
       "```\n"
      ],
      "text/plain": [
       "\u001b[36m  println([io::IO], xs...)\u001b[39m\n",
       "\n",
       "  Print (using \u001b[36mprint\u001b[39m) \u001b[36mxs\u001b[39m followed by a newline. If \u001b[36mio\u001b[39m is not supplied, prints\n",
       "  to \u001b[36mstdout\u001b[39m.\n",
       "\n",
       "\u001b[1m  Examples\u001b[22m\n",
       "\u001b[1m  ≡≡≡≡≡≡≡≡≡≡\u001b[22m\n",
       "\n",
       "\u001b[36m  julia> println(\"Hello, world\")\u001b[39m\n",
       "\u001b[36m  Hello, world\u001b[39m\n",
       "\u001b[36m  \u001b[39m\n",
       "\u001b[36m  julia> io = IOBuffer();\u001b[39m\n",
       "\u001b[36m  \u001b[39m\n",
       "\u001b[36m  julia> println(io, \"Hello, world\")\u001b[39m\n",
       "\u001b[36m  \u001b[39m\n",
       "\u001b[36m  julia> String(take!(io))\u001b[39m\n",
       "\u001b[36m  \"Hello, world\\n\"\u001b[39m"
      ]
     },
     "execution_count": 11,
     "metadata": {},
     "output_type": "execute_result"
    }
   ],
   "source": [
    "? println"
   ]
  },
  {
   "cell_type": "code",
   "execution_count": 12,
   "id": "47d1a8cb-5fd6-4e14-aadb-4a9a0445debd",
   "metadata": {},
   "outputs": [
    {
     "data": {
      "text/plain": [
       "Int64"
      ]
     },
     "execution_count": 12,
     "metadata": {},
     "output_type": "execute_result"
    }
   ],
   "source": [
    "answer = 42\n",
    "typeof(answer)"
   ]
  },
  {
   "cell_type": "code",
   "execution_count": 13,
   "id": "0e2ea291-47da-4c75-90e5-7cc72fb99433",
   "metadata": {},
   "outputs": [
    {
     "data": {
      "text/plain": [
       "Float64"
      ]
     },
     "execution_count": 13,
     "metadata": {},
     "output_type": "execute_result"
    }
   ],
   "source": [
    "e = 3.141\n",
    "typeof(e)"
   ]
  },
  {
   "cell_type": "code",
   "execution_count": 14,
   "id": "73016c10-9b39-4ab9-a39a-14ebccb69dcd",
   "metadata": {},
   "outputs": [
    {
     "data": {
      "text/plain": [
       "(10, 20)"
      ]
     },
     "execution_count": 14,
     "metadata": {},
     "output_type": "execute_result"
    }
   ],
   "source": [
    "a, b = 10, 20"
   ]
  },
  {
   "cell_type": "code",
   "execution_count": 15,
   "id": "cd0281b9-9136-4c16-a6b7-e8d107e93540",
   "metadata": {},
   "outputs": [
    {
     "name": "stdout",
     "output_type": "stream",
     "text": [
      "10\n",
      "20\n"
     ]
    }
   ],
   "source": [
    "println(a)\n",
    "println(b)"
   ]
  },
  {
   "cell_type": "code",
   "execution_count": 16,
   "id": "1ce26f3a-331a-4003-a8c3-ecb916b215d1",
   "metadata": {},
   "outputs": [
    {
     "data": {
      "text/plain": [
       "4"
      ]
     },
     "execution_count": 16,
     "metadata": {},
     "output_type": "execute_result"
    }
   ],
   "source": [
    ":4          # literal type "
   ]
  },
  {
   "cell_type": "code",
   "execution_count": 17,
   "id": "7aa740fd-f242-4c71-b1fe-c295e2b4f69f",
   "metadata": {},
   "outputs": [
    {
     "data": {
      "text/plain": [
       "Int64"
      ]
     },
     "execution_count": 17,
     "metadata": {},
     "output_type": "execute_result"
    }
   ],
   "source": [
    "typeof(:4)"
   ]
  },
  {
   "cell_type": "code",
   "execution_count": 23,
   "id": "7f98ae86-ee4a-4c5c-8a97-10f485c45696",
   "metadata": {},
   "outputs": [
    {
     "data": {
      "text/plain": [
       ":best"
      ]
     },
     "execution_count": 23,
     "metadata": {},
     "output_type": "execute_result"
    }
   ],
   "source": [
    ":best"
   ]
  },
  {
   "cell_type": "code",
   "execution_count": 19,
   "id": "a7049fdd-99ed-48cf-adfc-163c7304d241",
   "metadata": {},
   "outputs": [
    {
     "data": {
      "text/plain": [
       "Symbol"
      ]
     },
     "execution_count": 19,
     "metadata": {},
     "output_type": "execute_result"
    }
   ],
   "source": [
    "typeof(:b)"
   ]
  },
  {
   "cell_type": "code",
   "execution_count": 20,
   "id": "7ea6e590-22d0-49e6-9507-5e7a790c93a6",
   "metadata": {},
   "outputs": [
    {
     "name": "stdout",
     "output_type": "stream",
     "text": [
      "20\n"
     ]
    }
   ],
   "source": [
    "println(b)"
   ]
  },
  {
   "cell_type": "markdown",
   "id": "764c5af3-f0f9-47a8-8e0f-91197138f8fb",
   "metadata": {},
   "source": [
    "## Basic Arithmetic "
   ]
  },
  {
   "cell_type": "code",
   "execution_count": 26,
   "id": "aa5b2003-45b3-4e6e-ab21-4ff5dc07a76a",
   "metadata": {},
   "outputs": [
    {
     "name": "stdout",
     "output_type": "stream",
     "text": [
      "82120.62\n"
     ]
    }
   ],
   "source": [
    "println(3+5, 3-1, 3*4, 3/5, 6%4)      # not what you expect! "
   ]
  },
  {
   "cell_type": "code",
   "execution_count": 27,
   "id": "0a2f529c-7cf1-47da-9e1f-31b7d485e577",
   "metadata": {},
   "outputs": [
    {
     "name": "stdout",
     "output_type": "stream",
     "text": [
      "ab\n"
     ]
    }
   ],
   "source": [
    "println(\"a\", \"b\")"
   ]
  },
  {
   "cell_type": "code",
   "execution_count": 28,
   "id": "98207935-2ff8-479a-b2dc-22476ce547e7",
   "metadata": {},
   "outputs": [
    {
     "name": "stdout",
     "output_type": "stream",
     "text": [
      "[8.0, 2.0, 12.0, 0.6, 2.0]\n"
     ]
    }
   ],
   "source": [
    "println([ 3+5, 3-1, 3*4, 3/5, 6%4 ])     "
   ]
  },
  {
   "cell_type": "code",
   "execution_count": 29,
   "id": "b6438ce2-08ac-49d1-ba93-dcee8c4847cb",
   "metadata": {},
   "outputs": [
    {
     "data": {
      "text/plain": [
       "Array{Float64,1}"
      ]
     },
     "execution_count": 29,
     "metadata": {},
     "output_type": "execute_result"
    }
   ],
   "source": [
    "typeof([1, 2, 4.0])     # everything is converted to a Float64 "
   ]
  },
  {
   "cell_type": "raw",
   "id": "44724b0e-8a01-4353-bcdf-dc849d5feb86",
   "metadata": {},
   "source": [
    "print(\"a\")\n",
    "print(\"b\")   # no new line at end "
   ]
  },
  {
   "cell_type": "code",
   "execution_count": 31,
   "id": "1c1e85ac-7e54-45e7-8453-f93902080d7d",
   "metadata": {},
   "outputs": [
    {
     "data": {
      "text/plain": [
       "2//1"
      ]
     },
     "execution_count": 31,
     "metadata": {},
     "output_type": "execute_result"
    }
   ],
   "source": [
    "4//2    # builtin support for rationals "
   ]
  },
  {
   "cell_type": "code",
   "execution_count": 32,
   "id": "e3c0df6a-e8a9-4c83-8451-2cefdf9b615d",
   "metadata": {},
   "outputs": [
    {
     "data": {
      "text/plain": [
       "9//2"
      ]
     },
     "execution_count": 32,
     "metadata": {},
     "output_type": "execute_result"
    }
   ],
   "source": [
    "5//2 + 4//2 "
   ]
  },
  {
   "cell_type": "code",
   "execution_count": 33,
   "id": "60fa6020-ad55-4d1f-8dcc-95dd85f4112b",
   "metadata": {},
   "outputs": [
    {
     "data": {
      "text/plain": [
       "1"
      ]
     },
     "execution_count": 33,
     "metadata": {},
     "output_type": "execute_result"
    }
   ],
   "source": [
    "convert(Int64, 1)  "
   ]
  },
  {
   "cell_type": "code",
   "execution_count": 34,
   "id": "5d36172f-4d28-4343-9f16-2972637cccbf",
   "metadata": {},
   "outputs": [
    {
     "data": {
      "text/plain": [
       "1.0"
      ]
     },
     "execution_count": 34,
     "metadata": {},
     "output_type": "execute_result"
    }
   ],
   "source": [
    "convert(Float64, 1)  "
   ]
  },
  {
   "cell_type": "code",
   "execution_count": 35,
   "id": "fc0be114-5355-42e3-9c9e-505ff0e58ba5",
   "metadata": {},
   "outputs": [
    {
     "ename": "LoadError",
     "evalue": "InexactError: Int64(1.3)",
     "output_type": "error",
     "traceback": [
      "InexactError: Int64(1.3)",
      "",
      "Stacktrace:",
      " [1] Int64 at ./float.jl:710 [inlined]",
      " [2] convert(::Type{Int64}, ::Float64) at ./number.jl:7",
      " [3] top-level scope at In[35]:1",
      " [4] include_string(::Function, ::Module, ::String, ::String) at ./loading.jl:1091"
     ]
    }
   ],
   "source": [
    "convert(Int64, 1.3)  "
   ]
  },
  {
   "cell_type": "markdown",
   "id": "a5662b27-5e50-4846-8c7c-905c23293408",
   "metadata": {},
   "source": [
    "## Boolean Operators "
   ]
  },
  {
   "cell_type": "code",
   "execution_count": 36,
   "id": "7f42f128-efb4-4d9d-9412-45d34086a937",
   "metadata": {},
   "outputs": [],
   "source": [
    "val_t = true \n",
    "val_f = false;       # the final semicolon supresses output "
   ]
  },
  {
   "cell_type": "code",
   "execution_count": 37,
   "id": "e9524fe1-a3fb-4f0a-875c-d20c89b421bc",
   "metadata": {},
   "outputs": [
    {
     "data": {
      "text/plain": [
       "false"
      ]
     },
     "execution_count": 37,
     "metadata": {},
     "output_type": "execute_result"
    }
   ],
   "source": [
    "val_t && val_f"
   ]
  },
  {
   "cell_type": "code",
   "execution_count": 38,
   "id": "ec1c537c-00d0-4d97-bd8d-9ad44295d6ad",
   "metadata": {},
   "outputs": [
    {
     "data": {
      "text/plain": [
       "true"
      ]
     },
     "execution_count": 38,
     "metadata": {},
     "output_type": "execute_result"
    }
   ],
   "source": [
    "val_t || val_f"
   ]
  },
  {
   "cell_type": "code",
   "execution_count": 39,
   "id": "f75e1ab6-45d1-4ab3-ad35-130d89dcddc7",
   "metadata": {},
   "outputs": [
    {
     "data": {
      "text/plain": [
       "false"
      ]
     },
     "execution_count": 39,
     "metadata": {},
     "output_type": "execute_result"
    }
   ],
   "source": [
    "!val_t"
   ]
  },
  {
   "cell_type": "code",
   "execution_count": null,
   "id": "daa1d21c-faf7-49e9-8f41-f7eab0c8ee3b",
   "metadata": {},
   "outputs": [],
   "source": []
  },
  {
   "cell_type": "markdown",
   "id": "63b5364d-9921-4206-ae65-453fab684b04",
   "metadata": {},
   "source": [
    "## String Operations "
   ]
  },
  {
   "cell_type": "code",
   "execution_count": 40,
   "id": "adb81f44-77a8-41de-91ed-c40f69190818",
   "metadata": {},
   "outputs": [
    {
     "name": "stdout",
     "output_type": "stream",
     "text": [
      "The customer's name is John who is 35 years old.\n"
     ]
    }
   ],
   "source": [
    "name = \"John\"\n",
    "age = 35\n",
    "println(\"The customer's name is $(name) who is $(age) years old.\")"
   ]
  },
  {
   "cell_type": "code",
   "execution_count": 41,
   "id": "d5b70ea7-4251-4e52-99f5-5e5afbb33ac7",
   "metadata": {},
   "outputs": [
    {
     "data": {
      "text/plain": [
       "\"Blossom\""
      ]
     },
     "execution_count": 41,
     "metadata": {},
     "output_type": "execute_result"
    }
   ],
   "source": [
    "s1 = \"Awesome\" \n",
    "s2 = \"Blossom\" "
   ]
  },
  {
   "cell_type": "code",
   "execution_count": 42,
   "id": "f7fbad4f-7edd-4e4b-abde-ed7d25b0399c",
   "metadata": {},
   "outputs": [
    {
     "data": {
      "text/plain": [
       "\"AwesomeBlossom\""
      ]
     },
     "execution_count": 42,
     "metadata": {},
     "output_type": "execute_result"
    }
   ],
   "source": [
    "s1 * s2"
   ]
  },
  {
   "cell_type": "code",
   "execution_count": 43,
   "id": "23ee357a-1632-4fc2-b288-74014b3ecbfa",
   "metadata": {},
   "outputs": [
    {
     "data": {
      "text/plain": [
       "\"Awesome Blossom\""
      ]
     },
     "execution_count": 43,
     "metadata": {},
     "output_type": "execute_result"
    }
   ],
   "source": [
    "join([s1, s2], \" \")"
   ]
  },
  {
   "cell_type": "code",
   "execution_count": 44,
   "id": "1c65330a-c90e-4dec-ad32-ea379b52d9d3",
   "metadata": {},
   "outputs": [
    {
     "data": {
      "text/plain": [
       "\"a b c d\""
      ]
     },
     "execution_count": 44,
     "metadata": {},
     "output_type": "execute_result"
    }
   ],
   "source": [
    "alphabet = ['a', 'b', 'c', 'd']\n",
    "join(alphabet, ' ')"
   ]
  },
  {
   "cell_type": "code",
   "execution_count": 45,
   "id": "40ce8fdb-6b77-4dbb-9796-89052f7d831a",
   "metadata": {},
   "outputs": [
    {
     "data": {
      "text/plain": [
       "\"AwesomeAwesomeAwesome\""
      ]
     },
     "execution_count": 45,
     "metadata": {},
     "output_type": "execute_result"
    }
   ],
   "source": [
    "s1 ^ 3  # you've already seen this "
   ]
  },
  {
   "cell_type": "code",
   "execution_count": null,
   "id": "f7da8249-6630-446b-8442-cc836e1af53f",
   "metadata": {},
   "outputs": [],
   "source": [
    "# Pro tip: If you're working in the notebook, \n",
    "#    you can right-click and click on \n",
    "#    'New Console for Notebook' \n",
    "#    for experimentation (console is tile-able too)"
   ]
  }
 ],
 "metadata": {
  "kernelspec": {
   "display_name": "Julia 1.6.0",
   "language": "julia",
   "name": "julia-1.6"
  },
  "language_info": {
   "file_extension": ".jl",
   "mimetype": "application/julia",
   "name": "julia",
   "version": "1.6.0"
  }
 },
 "nbformat": 4,
 "nbformat_minor": 5
}
